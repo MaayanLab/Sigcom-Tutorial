{
 "cells": [
  {
   "cell_type": "code",
   "execution_count": 1,
   "metadata": {},
   "outputs": [],
   "source": [
    "%load_ext dotenv\n",
    "%dotenv"
   ]
  },
  {
   "cell_type": "code",
   "execution_count": 2,
   "metadata": {},
   "outputs": [],
   "source": [
    "import requests\n",
    "import base64\n",
    "import json\n",
    "import os\n",
    "from requests.auth import HTTPBasicAuth"
   ]
  },
  {
   "cell_type": "markdown",
   "metadata": {},
   "source": [
    "## Update from previous lab meeting\n",
    "\n",
    "![old sigcom](img/old_sigcom.png)"
   ]
  },
  {
   "cell_type": "markdown",
   "metadata": {},
   "source": [
    "UPDATED:\n",
    "\n",
    "https://amp.pharm.mssm.edu/sigcom\n",
    "\n",
    "https://amp.pharm.mssm.edu/btools"
   ]
  },
  {
   "cell_type": "markdown",
   "metadata": {},
   "source": [
    "## Building sigcom via a docker compose\n",
    "\n",
    "https://github.com/dcic/signature-commons/tree/monorepo\n",
    "![https://github.com/dcic/signature-commons/tree/monorepo](img/monorepo.png)"
   ]
  },
  {
   "cell_type": "markdown",
   "metadata": {},
   "source": [
    "## Setting up your Postgres database\n",
    "\n",
    "1. Check if postgres in installed.\n",
    "    - Installation instructions:\n",
    "        - Windows: http://www.postgresqltutorial.com/install-postgresql/\n",
    "        - Mac\n",
    "            - You can use homebrew to install postgres in mac (https://brew.sh/)\n",
    "            - ```brew install postgres```\n",
    "        - Linux: https://www.postgresql.org/download/linux/\n",
    "2. Log in to postgres shell: ```psql postgres```\n",
    "3. Create database ```create database <database_name>;```\n",
    "4. Create user and grant privileges \n",
    "```\n",
    "    create user <user> with encrypted password '<password>';\n",
    "    grant all privileges on database <database_name> to <user>;\n",
    "```\n",
    "5. On the .env file, change the following variable: \n",
    "```\n",
    "# for dev\n",
    "TYPEORM_URL=postgres://<user>:<password>@localhost:5432/<database_name>\n",
    "```"
   ]
  },
  {
   "cell_type": "markdown",
   "metadata": {},
   "source": [
    "## Database Schema\n",
    "![Database schema](img/Database.png)"
   ]
  },
  {
   "cell_type": "markdown",
   "metadata": {},
   "source": [
    "## Post your data to the database\n"
   ]
  },
  {
   "cell_type": "code",
   "execution_count": 3,
   "metadata": {},
   "outputs": [],
   "source": [
    "API_url = \"http://localhost:3000/signature-commons-metadata-api/%s/%s\"\n",
    "credentials=HTTPBasicAuth(os.getenv(\"USERNAME\"),os.getenv(\"PASSWORD\"))"
   ]
  },
  {
   "cell_type": "code",
   "execution_count": 4,
   "metadata": {},
   "outputs": [],
   "source": [
    "def post_data(data,model):\n",
    "    res = requests.post(API_url%(model,\"\"), auth=credentials, json=data)\n",
    "    if not res.ok:\n",
    "        raise Exception(res.text) "
   ]
  },
  {
   "cell_type": "code",
   "execution_count": 46,
   "metadata": {},
   "outputs": [],
   "source": [
    "def delete_data(data,model):\n",
    "    res = requests.delete(API_url%(model,data[\"id\"]), auth=credentials)\n",
    "    if not res.ok:\n",
    "        raise Exception(res.text) "
   ]
  },
  {
   "cell_type": "markdown",
   "metadata": {},
   "source": [
    "## A note on validators\n",
    "\n",
    "Signature Commons is able to ingest any kind of metadata. Validators gives structure to our database by defining how a metadata of a certain type should look like.\n",
    "\n",
    "```/dcic/signature-commons-schema/v5/core/resource.json```\n",
    "![validator](img/validator.png)"
   ]
  },
  {
   "cell_type": "markdown",
   "metadata": {},
   "source": [
    "### Resources"
   ]
  },
  {
   "cell_type": "code",
   "execution_count": 5,
   "metadata": {},
   "outputs": [
    {
     "data": {
      "text/plain": [
       "{'$validator': '/dcic/signature-commons-schema/v5/core/resource.json',\n",
       " 'id': '40512bee-879f-4c4c-a850-890ce6fadcd4',\n",
       " 'meta': {'URL': 'http://archs4.cloud',\n",
       "  'PMID': '29636450',\n",
       "  'icon': 'static/images/ARCHS4_Cell_Lines.ico',\n",
       "  '$validator': '/@dcic/signature-commons-schema/v5/meta/resource/sigcom.json',\n",
       "  'description': '(From the website) ARCHS4 provides access to gene counts from HiSeq 2000, HiSeq 2500 and NextSeq 500 platforms for human and mouse experiments from GEO and SRA.',\n",
       "  'Resource_Name': 'ARCHS4'}}"
      ]
     },
     "execution_count": 5,
     "metadata": {},
     "output_type": "execute_result"
    }
   ],
   "source": [
    "with open(\"data/resources.json\") as o:\n",
    "    resources = json.loads(o.read())\n",
    "resources[0]"
   ]
  },
  {
   "cell_type": "code",
   "execution_count": 6,
   "metadata": {},
   "outputs": [],
   "source": [
    "# Post data\n",
    "for i in resources:\n",
    "    post_data(i,\"resources\")"
   ]
  },
  {
   "cell_type": "markdown",
   "metadata": {},
   "source": [
    "### Libraries"
   ]
  },
  {
   "cell_type": "code",
   "execution_count": 7,
   "metadata": {},
   "outputs": [
    {
     "data": {
      "text/plain": [
       "{'$validator': '/dcic/signature-commons-schema/v5/core/library.json',\n",
       " 'id': '3092d22e-d3e2-11e8-9544-787b8ad942f3',\n",
       " 'resource': '40512bee-879f-4c4c-a850-890ce6fadcd4',\n",
       " 'dataset': 'enrichr_geneset',\n",
       " 'dataset_type': 'geneset_library',\n",
       " 'meta': {'DOI': '10.1038/s41467-018-03751-6',\n",
       "  'Icon': 'static/images/ARCHS4_IDG_Targets_Coexp.ico',\n",
       "  'PMID': '29636450',\n",
       "  'Spec': '(?P<Original_String>((?P<UUID>.*):SC=)?(?P<Gene>.+?)_(?P<Program>.+?)_(?P<Gene_Family>.+?)_(?P<Processing_Type>.+?))\\\\t\\\\t(?P<Genes>.+)',\n",
       "  'Year': '2018',\n",
       "  'Assay': 'RNA-seq',\n",
       "  'Readout': 'mRNA',\n",
       "  'Version': '2018',\n",
       "  'Filename': 'ARCHS4_IDG_Coexp',\n",
       "  'Organism': 'Homo sapiens',\n",
       "  'Weighted': 'False',\n",
       "  '$validator': '/@dcic/signature-commons-schema/v4/meta/library/sigcom.json',\n",
       "  'Access_URL': 'http://amp.pharm.mssm.edu/Enrichr/geneSetLibrary?mode=text&libraryName=ARCHS4_IDG_Coexp',\n",
       "  'Description': 'Top 300 genes from All RNA-seq and CHIP-seq Signature Search Space (ARCHS4) that are co-expressed with under-studied drug targets from the Illuminating the Druggable Genome (IDG) project.',\n",
       "  'Library_name': 'ARCHS4 IDG Coexp',\n",
       "  'Original_source': 'MaayanLab',\n",
       "  'Link_to_resource': 'http://archs4.cloud/download',\n",
       "  'Primary_Resource': 'GEO',\n",
       "  'Perturbation_Type': 'difference from average',\n",
       "  'Library_created_by': 'MaayanLab',\n",
       "  'Primary_Resource_Short_Version': 'ARCHS4',\n",
       "  'Link_to_processing_scripts_on_GitHub': 'https://github.com/MaayanLab/HarmonizomePythonScripts/tree/master/ARCHS4/Human%20IDG%20Focused%20Genes'}}"
      ]
     },
     "execution_count": 7,
     "metadata": {},
     "output_type": "execute_result"
    }
   ],
   "source": [
    "with open(\"data/libraries.json\") as o:\n",
    "    libraries = json.loads(o.read())\n",
    "libraries[0]"
   ]
  },
  {
   "cell_type": "code",
   "execution_count": 8,
   "metadata": {},
   "outputs": [],
   "source": [
    "# Post data\n",
    "for i in libraries:\n",
    "    post_data(i,\"libraries\")"
   ]
  },
  {
   "cell_type": "markdown",
   "metadata": {},
   "source": [
    "### Signatures"
   ]
  },
  {
   "cell_type": "code",
   "execution_count": 9,
   "metadata": {},
   "outputs": [
    {
     "data": {
      "text/plain": [
       "{'$validator': '/dcic/signature-commons-schema/v5/core/signature.json',\n",
       " 'id': '0eb8b9b4-c1a1-11e8-9565-0242ac170004',\n",
       " 'library': '30b22907-d3e2-11e8-92a7-787b8ad942f3',\n",
       " 'meta': {'Assay': 'microarray',\n",
       "  'Tissue': [{'Name': 'kidney', 'Accession': 'UBERON:0002113'}],\n",
       "  'Readout': 'mRNA',\n",
       "  'Organism': 'Rattus norvegicus',\n",
       "  'Direction': 'down',\n",
       "  '$validator': '/@dcic/signature-commons-schema/v4/meta/signature/sigcom.json',\n",
       "  'Time_Point': '5d',\n",
       "  'Small_Molecule': [{'Name': 'ibuprofen',\n",
       "    'Accession': 'CHEBI:5855',\n",
       "    'Concentration': '263 mg/kg in Corn Oil'}],\n",
       "  'Number_of_genes': 260,\n",
       "  'Original_String': 'Ibuprofen-263 mg/kg in Corn Oil-Rat-Kidney-5d-dn',\n",
       "  'Perturbation_Type': 'small molecule'}}"
      ]
     },
     "execution_count": 9,
     "metadata": {},
     "output_type": "execute_result"
    }
   ],
   "source": [
    "with open(\"data/signatures.json\") as o:\n",
    "    signatures = json.loads(o.read())\n",
    "signatures[0]"
   ]
  },
  {
   "cell_type": "code",
   "execution_count": 10,
   "metadata": {},
   "outputs": [],
   "source": [
    "# Post data\n",
    "for i in signatures:\n",
    "    post_data(i,\"signatures\")"
   ]
  },
  {
   "cell_type": "markdown",
   "metadata": {},
   "source": [
    "#### Invalid metadata are checked by the metadata api\n",
    "\n",
    "validator: https://github.com/dcic/signature-commons-schema/blob/master/meta/signature/sigcom.json"
   ]
  },
  {
   "cell_type": "code",
   "execution_count": 11,
   "metadata": {},
   "outputs": [],
   "source": [
    "invalid_direction = {\n",
    "    '$validator': '/dcic/signature-commons-schema/v5/core/signature.json',\n",
    "    'id': '0eb8b9b4-c1a1-11e8-9565-0242ac170005',\n",
    "    'library': '30b22907-d3e2-11e8-92a7-787b8ad942f3',\n",
    "    'meta': {\n",
    "        'Assay': 'microarray',\n",
    "        'Tissue': [{'Name': 'kidney', 'Accession': 'UBERON:0002113'}],\n",
    "        'Readout': 'mRNA',\n",
    "        'Organism': 'Rattus norvegicus',\n",
    "        'Direction': 'dn',\n",
    "        '$validator': '/@dcic/signature-commons-schema/v4/meta/signature/sigcom.json',\n",
    "        'Time_Point': '5d',\n",
    "        'Small_Molecule': [{'Name': 'ibuprofen',\n",
    "        'Accession': 'CHEBI:5855',\n",
    "        'Concentration': '263 mg/kg in Corn Oil'}],\n",
    "        'Number_of_genes': 260,\n",
    "        'Original_String': 'Ibuprofen-263 mg/kg in Corn Oil-Rat-Kidney-5d-dn',\n",
    "        'Perturbation_Type': 'small molecule'\n",
    "    }\n",
    "}"
   ]
  },
  {
   "cell_type": "code",
   "execution_count": 12,
   "metadata": {},
   "outputs": [
    {
     "ename": "Exception",
     "evalue": "{\"error\":{\"statusCode\":406,\"name\":\"NotAcceptableError\",\"message\":{\"message\":\"validation failed\",\"errors\":[{\"keyword\":\"enum\",\"dataPath\":\"/Direction\",\"schemaPath\":\"/dcic/signature-commons-schema/v5/core/meta.json/$validator\",\"params\":{\"allowedValues\":[\"up\",\"down\"]},\"message\":\"should be equal to one of the allowed values\",\"schema\":\"/@dcic/signature-commons-schema/v4/meta/signature/sigcom.json\",\"parentSchema\":{\"description\":\"Tells whether the data are up regulated or down regulated\",\"enum\":[\"up\",\"down\"],\"type\":\"string\"},\"data\":{\"Assay\":\"microarray\",\"Tissue\":[{\"Name\":\"kidney\",\"Accession\":\"UBERON:0002113\"}],\"Readout\":\"mRNA\",\"Organism\":\"Rattus norvegicus\",\"Direction\":\"dn\",\"$validator\":\"/@dcic/signature-commons-schema/v4/meta/signature/sigcom.json\",\"Time_Point\":\"5d\",\"Small_Molecule\":[{\"Name\":\"ibuprofen\",\"Accession\":\"CHEBI:5855\",\"Concentration\":\"263 mg/kg in Corn Oil\"}],\"Number_of_genes\":260,\"Original_String\":\"Ibuprofen-263 mg/kg in Corn Oil-Rat-Kidney-5d-dn\",\"Perturbation_Type\":\"small molecule\"}}],\"validation\":true,\"ajv\":true,\"name\":\"Error\"}}}",
     "output_type": "error",
     "traceback": [
      "\u001b[0;31m---------------------------------------------------------------------------\u001b[0m",
      "\u001b[0;31mException\u001b[0m                                 Traceback (most recent call last)",
      "\u001b[0;32m<ipython-input-12-72361dd3479c>\u001b[0m in \u001b[0;36m<module>\u001b[0;34m()\u001b[0m\n\u001b[0;32m----> 1\u001b[0;31m \u001b[0mpost_data\u001b[0m\u001b[0;34m(\u001b[0m\u001b[0minvalid_direction\u001b[0m\u001b[0;34m,\u001b[0m\u001b[0;34m\"signatures\"\u001b[0m\u001b[0;34m)\u001b[0m\u001b[0;34m\u001b[0m\u001b[0;34m\u001b[0m\u001b[0m\n\u001b[0m",
      "\u001b[0;32m<ipython-input-4-13820c3c332d>\u001b[0m in \u001b[0;36mpost_data\u001b[0;34m(data, model)\u001b[0m\n\u001b[1;32m      2\u001b[0m     \u001b[0mres\u001b[0m \u001b[0;34m=\u001b[0m \u001b[0mrequests\u001b[0m\u001b[0;34m.\u001b[0m\u001b[0mpost\u001b[0m\u001b[0;34m(\u001b[0m\u001b[0mAPI_url\u001b[0m\u001b[0;34m%\u001b[0m\u001b[0;34m(\u001b[0m\u001b[0mmodel\u001b[0m\u001b[0;34m,\u001b[0m\u001b[0;34m\"\"\u001b[0m\u001b[0;34m)\u001b[0m\u001b[0;34m,\u001b[0m \u001b[0mauth\u001b[0m\u001b[0;34m=\u001b[0m\u001b[0mcredentials\u001b[0m\u001b[0;34m,\u001b[0m \u001b[0mjson\u001b[0m\u001b[0;34m=\u001b[0m\u001b[0mdata\u001b[0m\u001b[0;34m)\u001b[0m\u001b[0;34m\u001b[0m\u001b[0;34m\u001b[0m\u001b[0m\n\u001b[1;32m      3\u001b[0m     \u001b[0;32mif\u001b[0m \u001b[0;32mnot\u001b[0m \u001b[0mres\u001b[0m\u001b[0;34m.\u001b[0m\u001b[0mok\u001b[0m\u001b[0;34m:\u001b[0m\u001b[0;34m\u001b[0m\u001b[0;34m\u001b[0m\u001b[0m\n\u001b[0;32m----> 4\u001b[0;31m         \u001b[0;32mraise\u001b[0m \u001b[0mException\u001b[0m\u001b[0;34m(\u001b[0m\u001b[0mres\u001b[0m\u001b[0;34m.\u001b[0m\u001b[0mtext\u001b[0m\u001b[0;34m)\u001b[0m\u001b[0;34m\u001b[0m\u001b[0;34m\u001b[0m\u001b[0m\n\u001b[0m",
      "\u001b[0;31mException\u001b[0m: {\"error\":{\"statusCode\":406,\"name\":\"NotAcceptableError\",\"message\":{\"message\":\"validation failed\",\"errors\":[{\"keyword\":\"enum\",\"dataPath\":\"/Direction\",\"schemaPath\":\"/dcic/signature-commons-schema/v5/core/meta.json/$validator\",\"params\":{\"allowedValues\":[\"up\",\"down\"]},\"message\":\"should be equal to one of the allowed values\",\"schema\":\"/@dcic/signature-commons-schema/v4/meta/signature/sigcom.json\",\"parentSchema\":{\"description\":\"Tells whether the data are up regulated or down regulated\",\"enum\":[\"up\",\"down\"],\"type\":\"string\"},\"data\":{\"Assay\":\"microarray\",\"Tissue\":[{\"Name\":\"kidney\",\"Accession\":\"UBERON:0002113\"}],\"Readout\":\"mRNA\",\"Organism\":\"Rattus norvegicus\",\"Direction\":\"dn\",\"$validator\":\"/@dcic/signature-commons-schema/v4/meta/signature/sigcom.json\",\"Time_Point\":\"5d\",\"Small_Molecule\":[{\"Name\":\"ibuprofen\",\"Accession\":\"CHEBI:5855\",\"Concentration\":\"263 mg/kg in Corn Oil\"}],\"Number_of_genes\":260,\"Original_String\":\"Ibuprofen-263 mg/kg in Corn Oil-Rat-Kidney-5d-dn\",\"Perturbation_Type\":\"small molecule\"}}],\"validation\":true,\"ajv\":true,\"name\":\"Error\"}}}"
     ]
    }
   ],
   "source": [
    "post_data(invalid_direction,\"signatures\")"
   ]
  },
  {
   "cell_type": "markdown",
   "metadata": {},
   "source": [
    "## Refresh material view"
   ]
  },
  {
   "cell_type": "code",
   "execution_count": 18,
   "metadata": {},
   "outputs": [
    {
     "data": {
      "text/plain": [
       "'http://localhost:3000/signature-commons-metadata-api/optimize/refresh'"
      ]
     },
     "execution_count": 18,
     "metadata": {},
     "output_type": "execute_result"
    }
   ],
   "source": [
    "API_url%(\"optimize\",\"refresh\")"
   ]
  },
  {
   "cell_type": "code",
   "execution_count": 17,
   "metadata": {},
   "outputs": [
    {
     "data": {
      "text/plain": [
       "True"
      ]
     },
     "execution_count": 17,
     "metadata": {},
     "output_type": "execute_result"
    }
   ],
   "source": [
    "res = requests.get(API_url%(\"optimize\",\"refresh\"), auth=credentials)\n",
    "res.ok"
   ]
  },
  {
   "cell_type": "markdown",
   "metadata": {},
   "source": [
    "### Checkpoint\n",
    "http://localhost:3001/"
   ]
  },
  {
   "cell_type": "markdown",
   "metadata": {},
   "source": [
    "## Customizing the UI\n",
    "\n",
    "There are three types of schemas available for use in signature commons, the three are identified based on their validators.\n",
    "1. ui-schemas\n",
    "    - Used to make searches and info cards more informative\n",
    "    - \"/dcic/signature-commons-schema/v5/meta/schema/ui-schema.json\"\n",
    "2. counting schemas\n",
    "    - for counting\n",
    "    - used to add charts, starts, and even filters\n",
    "    - Tell the ui what type of count it is depending on the tag\n",
    "    - \"/dcic/signature-commons-schema/v5/meta/schema/counting.json\"\n",
    "3. landing schemas\n",
    "    - changes in the landing page, and routing\n",
    "    - \"/dcic/signature-commons-schema/v5/meta/schema/landing-ui.json\""
   ]
  },
  {
   "cell_type": "markdown",
   "metadata": {},
   "source": [
    "### Modify Search Results\n",
    "```\n",
    "{\n",
    "  \"match\": {\n",
    "    \"${$validator}\": \"/@?dcic/signature-commons-schema/(v[0-9]+/)?core/library.json\",\n",
    "    \"${dataset}\": \"enrichr_geneset\"\n",
    "  },\n",
    "  \"properties\": {\n",
    "    \"Image\": {\n",
    "      \"visibility\": 1,\n",
    "      \"type\": \"img\",\n",
    "      \"src\": \"${PREFIX}/${meta['Icon']}\",\n",
    "      \"alt\": \"${meta['Primary_Resource']}\",\n",
    "      \"priority\": 1,\n",
    "      \"icon\": true\n",
    "    },\n",
    "    \"Library\": {\n",
    "      \"visibility\": 1,\n",
    "      \"type\": \"text\",\n",
    "      \"text\": \"${meta['Library_name']}\",\n",
    "      \"priority\": 2,\n",
    "      \"hyperlink\": \"${meta.Access_URL}\",\n",
    "      \"name\": true\n",
    "    },\n",
    "    \"Description\": {\n",
    "      \"visibility\": 0,\n",
    "      \"type\": \"text\",\n",
    "      \"text\": \"${meta['Description']}\",\n",
    "      \"priority\": 2,\n",
    "      \"description\": true,\n",
    "      \"subtitle\": true\n",
    "    },\n",
    "    \"Assay\": {\n",
    "      \"visibility\": 1,\n",
    "      \"type\": \"text\",\n",
    "      \"text\": \"${meta.Assay}\",\n",
    "      \"priority\": 3,\n",
    "      \"MDI_Icon\": \"mdi-flask-outline\"\n",
    "    },\n",
    "    \"Organism\": {\n",
    "      \"visibility\": 1,\n",
    "      \"type\": \"text\",\n",
    "      \"text\": \"${meta.Organism}\",\n",
    "      \"priority\": 4,\n",
    "      \"MDI_Icon\": \"mdi-human-child\"\n",
    "    },\n",
    "    \"Year\": {\n",
    "      \"visibility\": 1,\n",
    "      \"type\": \"text\",\n",
    "      \"text\": \"${meta.Year}\",\n",
    "      \"priority\": 4,\n",
    "      \"MDI_Icon\": \"mdi-calendar\"\n",
    "    }\n",
    "  }\n",
    "}\n",
    "```"
   ]
  },
  {
   "cell_type": "code",
   "execution_count": 19,
   "metadata": {},
   "outputs": [],
   "source": [
    "from uuid import uuid4"
   ]
  },
  {
   "cell_type": "code",
   "execution_count": 139,
   "metadata": {},
   "outputs": [
    {
     "data": {
      "text/plain": [
       "True"
      ]
     },
     "execution_count": 139,
     "metadata": {},
     "output_type": "execute_result"
    }
   ],
   "source": [
    "with open(\"data/schemas/resource.json\") as o:\n",
    "    meta = json.loads(o.read())\n",
    "\n",
    "resource_schema = {\n",
    "    \"id\": str(uuid4()),\n",
    "    \"meta\": meta\n",
    "}\n",
    "\n",
    "resource_schema[\"meta\"][\"$validator\"] = \"/dcic/signature-commons-schema/v5/meta/schema/ui-schema.json\"\n",
    "\n",
    "res = requests.post(API_url%(\"schemas\",\"\"), auth=credentials, json=resource_schema)\n",
    "res.ok"
   ]
  },
  {
   "cell_type": "code",
   "execution_count": 140,
   "metadata": {},
   "outputs": [
    {
     "data": {
      "text/plain": [
       "True"
      ]
     },
     "execution_count": 140,
     "metadata": {},
     "output_type": "execute_result"
    }
   ],
   "source": [
    "with open(\"data/schemas/library.json\") as o:\n",
    "    meta = json.loads(o.read())\n",
    "\n",
    "library_schema = {\n",
    "    \"id\": str(uuid4()),\n",
    "    \"meta\": meta\n",
    "}\n",
    "\n",
    "library_schema[\"meta\"][\"$validator\"] = \"/dcic/signature-commons-schema/v5/meta/schema/ui-schema.json\"\n",
    "\n",
    "res = requests.post(API_url%(\"schemas\",\"\"), auth=credentials, json=library_schema)\n",
    "res.ok"
   ]
  },
  {
   "cell_type": "code",
   "execution_count": 141,
   "metadata": {},
   "outputs": [
    {
     "data": {
      "text/plain": [
       "True"
      ]
     },
     "execution_count": 141,
     "metadata": {},
     "output_type": "execute_result"
    }
   ],
   "source": [
    "with open(\"data/schemas/signature.json\") as o:\n",
    "    meta = json.loads(o.read())\n",
    "\n",
    "signature_schema = {\n",
    "    \"id\": str(uuid4()),\n",
    "    \"meta\": meta\n",
    "}\n",
    "\n",
    "signature_schema[\"meta\"][\"$validator\"] = \"/dcic/signature-commons-schema/v5/meta/schema/ui-schema.json\"\n",
    "\n",
    "res = requests.post(API_url%(\"schemas\",\"\"), auth=credentials, json=signature_schema)\n",
    "res.ok"
   ]
  },
  {
   "cell_type": "code",
   "execution_count": 142,
   "metadata": {},
   "outputs": [
    {
     "data": {
      "text/plain": [
       "True"
      ]
     },
     "execution_count": 142,
     "metadata": {},
     "output_type": "execute_result"
    }
   ],
   "source": [
    "with open(\"data/schemas/signature_creeds.json\") as o:\n",
    "    meta = json.loads(o.read())\n",
    "\n",
    "signature_creeds_schema = {\n",
    "    \"id\": str(uuid4()),\n",
    "    \"meta\": meta\n",
    "}\n",
    "\n",
    "signature_creeds_schema[\"meta\"][\"$validator\"] = \"/dcic/signature-commons-schema/v5/meta/schema/ui-schema.json\"\n",
    "\n",
    "res = requests.post(API_url%(\"schemas\",\"\"), auth=credentials, json=signature_creeds_schema)\n",
    "res.ok"
   ]
  },
  {
   "cell_type": "code",
   "execution_count": 127,
   "metadata": {},
   "outputs": [],
   "source": [
    "# res = requests.get(API_url%(\"schemas\",\"\"))\n",
    "# for i in res.json():\n",
    "#     delete_data(i,\"schemas\")"
   ]
  },
  {
   "cell_type": "markdown",
   "metadata": {},
   "source": [
    "### Add Filters\n",
    "1.\n",
    "```\n",
    "{\n",
    "    \"Field_Name\": \"library\",\n",
    "    \"Preferred_Name\": \"Libraries\",\n",
    "    \"Preferred_Name_Singular\": \"Library\",\n",
    "    \"Type\": \"string\",\n",
    "    \"MDI_Icon\": \"mdi-library-books\",\n",
    "    \"Table\": \"signatures\",\n",
    "    \"Filter\": true\n",
    "}\n",
    " ```\n",
    " 2.\n",
    " ```\n",
    "{\n",
    "    \"Field_Name\": \"meta.Assay\",\n",
    "    \"Type\": \"string\",\n",
    "    \"Preferred_Name\": \"Assays\",\n",
    "    \"Preferred_Name_Singular\": \"Assay\",\n",
    "    \"Table\": \"signatures\",\n",
    "    \"Filter\": true,\n",
    "    \"MDI_Icon\": \"mdi-microscope\"\n",
    "}\n",
    " ```"
   ]
  },
  {
   "cell_type": "code",
   "execution_count": 143,
   "metadata": {},
   "outputs": [],
   "source": [
    "with open(\"data/schemas/filters.json\") as o:\n",
    "    filters_meta = json.loads(o.read())"
   ]
  },
  {
   "cell_type": "code",
   "execution_count": 144,
   "metadata": {},
   "outputs": [],
   "source": [
    "filters = []\n",
    "for meta in filters_meta:\n",
    "    meta[\"$validator\"] = \"/dcic/signature-commons-schema/v5/meta/schema/counting.json\"\n",
    "    filters.append({\n",
    "        \"id\": str(uuid4()),\n",
    "        \"meta\": meta\n",
    "    })"
   ]
  },
  {
   "cell_type": "code",
   "execution_count": 145,
   "metadata": {},
   "outputs": [],
   "source": [
    "for i in filters:\n",
    "    post_data(i,\"schemas\")"
   ]
  },
  {
   "cell_type": "markdown",
   "metadata": {},
   "source": [
    "### Add Stats and Charts\n",
    "Tags:\n",
    "1. Table_Count\n",
    "2. Meta_Count\n",
    "3. Pie_Count\n",
    "4. Bar_Count\n",
    "5. Bar_Score\n",
    "6. Histogram\n",
    "7. Word_Count"
   ]
  },
  {
   "cell_type": "markdown",
   "metadata": {},
   "source": [
    "#### Table Count\n",
    "```\n",
    "[\n",
    "    {\n",
    "        \"Field_Name\": \"signatures\",\n",
    "        \"Type\": \"table\",\n",
    "        \"Preferred_Name\": \"Signatures\",\n",
    "        \"MDI_Icon\": \"mdi-fingerprint\",\n",
    "        \"Table_Count\": true,\n",
    "        \"Visible_On_Landing\": true\n",
    "    },\n",
    "    {\n",
    "        \"Field_Name\": \"resources\",\n",
    "        \"Type\": \"table\",\n",
    "        \"Preferred_Name\": \"Web Resources\",\n",
    "        \"MDI_Icon\": \"mdi-web\",\n",
    "        \"Table_Count\": true,\n",
    "        \"Visible_On_Landing\": true\n",
    "    }\n",
    "]\n",
    "```"
   ]
  },
  {
   "cell_type": "code",
   "execution_count": 146,
   "metadata": {},
   "outputs": [],
   "source": [
    "with open(\"data/schemas/table_count.json\") as o:\n",
    "    table_count_meta = json.loads(o.read())\n",
    "\n",
    "table_count = []\n",
    "for meta in table_count_meta:\n",
    "    meta[\"$validator\"] = \"/dcic/signature-commons-schema/v5/meta/schema/counting.json\"\n",
    "    data = {\n",
    "        \"id\": str(uuid4()),\n",
    "        \"meta\": meta\n",
    "        }\n",
    "    post_data(data,\"schemas\")"
   ]
  },
  {
   "cell_type": "markdown",
   "metadata": {},
   "source": [
    "### Meta Count\n",
    "```\n",
    "{\n",
    "    \"Field_Name\": \"meta.Small_Molecule.Name\",\n",
    "    \"Preferred_Name\": \"Small Molecules\",\n",
    "    \"Type\": \"object\",\n",
    "    \"MDI_Icon\": \"mdi-hexagon-multiple\",\n",
    "    \"Table\": \"signatures\",\n",
    "    \"Meta_Count\": true,\n",
    "}\n",
    "```"
   ]
  },
  {
   "cell_type": "code",
   "execution_count": 147,
   "metadata": {},
   "outputs": [],
   "source": [
    "with open(\"data/schemas/meta_count.json\") as o:\n",
    "    meta_count_meta = json.loads(o.read())\n",
    "\n",
    "meta_count = []\n",
    "for meta in meta_count_meta:\n",
    "    meta[\"$validator\"] = \"/dcic/signature-commons-schema/v5/meta/schema/counting.json\"\n",
    "    data = {\n",
    "        \"id\": str(uuid4()),\n",
    "        \"meta\": meta\n",
    "        }\n",
    "    post_data(data,\"schemas\")"
   ]
  },
  {
   "cell_type": "markdown",
   "metadata": {},
   "source": [
    "### Pie Count\n",
    "```\n",
    "{\n",
    "    \"Field_Name\": \"meta.Assay\",\n",
    "    \"Preferred_Name\": \"Assays\",\n",
    "    \"Preferred_Name_Singular\": \"Assay\",\n",
    "    \"Type\": \"object\",\n",
    "    \"MDI_Icon\": \"mdi-flask\",\n",
    "    \"Table\": \"signatures\",\n",
    "    \"Pie_Count\": true,\n",
    "}\n",
    "```"
   ]
  },
  {
   "cell_type": "code",
   "execution_count": 148,
   "metadata": {},
   "outputs": [],
   "source": [
    "with open(\"data/schemas/pie_count.json\") as o:\n",
    "    pie_count_meta = json.loads(o.read())\n",
    "\n",
    "pie_count = []\n",
    "for meta in pie_count_meta:\n",
    "    meta[\"$validator\"] = \"/dcic/signature-commons-schema/v5/meta/schema/counting.json\"\n",
    "    data = {\n",
    "        \"id\": str(uuid4()),\n",
    "        \"meta\": meta\n",
    "        }\n",
    "    post_data(data,\"schemas\")"
   ]
  },
  {
   "cell_type": "markdown",
   "metadata": {},
   "source": [
    "### Word Count\n",
    "{\n",
    "    \"Field_Name\": \"meta.Small_Molecule.Name\",\n",
    "    \"Preferred_Name\": \"Small Molecules\",\n",
    "    \"Preferred_Name_Singular\": \"Small Molecule\",\n",
    "    \"Type\": \"object\",\n",
    "    \"MDI_Icon\": \"mdi-hexagon-multiple\",\n",
    "    \"Table\": \"signatures\",\n",
    "    \"Word_Count\": true,\n",
    "}"
   ]
  },
  {
   "cell_type": "code",
   "execution_count": null,
   "metadata": {},
   "outputs": [],
   "source": [
    "with open(\"data/schemas/word_count.json\") as o:\n",
    "    word_count_meta = json.loads(o.read())\n",
    "\n",
    "pie_count = []\n",
    "for meta in pie_count_meta:\n",
    "    meta[\"$validator\"] = \"/dcic/signature-commons-schema/v5/meta/schema/counting.json\"\n",
    "    data = {\n",
    "        \"id\": str(uuid4()),\n",
    "        \"meta\": meta\n",
    "        }\n",
    "    post_data(data,\"schemas\")"
   ]
  },
  {
   "cell_type": "markdown",
   "metadata": {},
   "source": [
    "### Bar Count\n",
    "```\n",
    "{\n",
    "  \"Field_Name\": \"meta.Assay\",\n",
    "  \"Type\": \"string\",\n",
    "  \"Preferred_Name\": \"Assays\",\n",
    "  \"Table\": \"signatures\",\n",
    "  \"Bar_Count\": true\n",
    "}\n",
    "```"
   ]
  },
  {
   "cell_type": "code",
   "execution_count": 149,
   "metadata": {},
   "outputs": [],
   "source": [
    "with open(\"data/schemas/bar_count_assay.json\") as o:\n",
    "    bar_count_assay = json.loads(o.read())\n",
    "\n",
    "bar_count_assay[\"$validator\"] = \"/dcic/signature-commons-schema/v5/meta/schema/counting.json\"\n",
    "data = {\n",
    "    \"id\": str(uuid4()),\n",
    "    \"meta\": bar_count_assay\n",
    "    }\n",
    "post_data(data,\"schemas\")"
   ]
  },
  {
   "cell_type": "code",
   "execution_count": 150,
   "metadata": {},
   "outputs": [],
   "source": [
    "with open(\"data/schemas/bar_count_readout.json\") as o:\n",
    "    bar_count_readout = json.loads(o.read())\n",
    "\n",
    "bar_count_readout[\"$validator\"] = \"/dcic/signature-commons-schema/v5/meta/schema/counting.json\"\n",
    "data = {\n",
    "    \"id\": str(uuid4()),\n",
    "    \"meta\": bar_count_readout\n",
    "    }\n",
    "post_data(data,\"schemas\")"
   ]
  },
  {
   "cell_type": "markdown",
   "metadata": {},
   "source": [
    "### Note\n",
    "You can combine tags to reduce redundancy\n",
    "```\n",
    "{\n",
    "    \"Field_Name\": \"meta.Assay\",\n",
    "    \"Preferred_Name\": \"Assays\",\n",
    "    \"Preferred_Name_Singular\": \"Assay\",\n",
    "    \"Type\": \"object\",\n",
    "    \"MDI_Icon\": \"mdi-flask\",\n",
    "    \"Table\": \"signatures\",\n",
    "    \"Pie_Count\": true,\n",
    "    \n",
    "}\n",
    "```"
   ]
  },
  {
   "cell_type": "markdown",
   "metadata": {},
   "source": [
    "## Customize the landing page\n",
    "| Tag | type | default |\n",
    "|--|--|--|\n",
    "| header | string | Signature Commons |\n",
    "|Text1| string | Explore an extensive collection of well-annotated gene-sets and signatures |\n",
    "|Text2| string | Search across a broad gathering of perturbations |\n",
    "|Text3| string | By |\n",
    "|Text4| string | Start using Signature Commons in your project |\n",
    "|metadata_placeholder | string | Search over half a million signatures|\n",
    "|geneset_placeholder | string | Genes that are regulated in signature or overlap with gene set|\n",
    "|up_genes_placeholder | string | Genes that are up-regulated in signature or overlap with gene set|\n",
    "|down_genes_placeholder | string | Genes that are down-regulated in signature or overlap with gene set|\n",
    "|geneset_terms| string | * see sigcom website for defaults * |\n",
    "|weighted_geneset_terms| string | * see sigcom website for defaults * |\n",
    "|up_set_terms| string | * see sigcom website for defaults * |\n",
    "|down_set_terms| string | * see sigcom website for defaults * |\n",
    "|search_terms | array | ['MCF10A', 'Imatinib', 'ZNF830', 'STAT3', 'Neuropathy'] |\n",
    "|github | string | https://github.com/dcic/signature-commons-ui|\n",
    "|github_issues | string | https://github.com/dcic/signature-commons-ui/issues|\n",
    "|deactivate_download | boolean | true|\n",
    "| maxResourcesBeforeCollapse | int | 60 |\n",
    "| maxResourcesToShow | int | 40 |\n",
    "| counting_validator | string | /dcic/signature-commons-schema/v5/meta/schema/counting.json |\n",
    "| ui_schema | string | /dcic/signature-commons-schema/v5/meta/schema/ui-schema.json|\n",
    "| footer_type | string | powered |\n",
    "| nav | object | * See Below * |\n",
    "| downloads | object | * See Below * |\n",
    "| bar_chart_style | object | |\n",
    "| pie_chart_style| object | |\n",
    "\n",
    "nav:\n",
    "```\n",
    "{\n",
    "    MetadataSearch: {\n",
    "        active: true,\n",
    "        endpoint: '/MetadataSearch',\n",
    "    },\n",
    "    SignatureSearch: {\n",
    "        active: false,\n",
    "        endpoint: '/SignatureSearch',\n",
    "    },\n",
    "    Resources: {\n",
    "        active: true,\n",
    "        endpoint: '/Resources',\n",
    "    },\n",
    "    API: {\n",
    "        active: true,\n",
    "        endpoint: '/API',\n",
    "    },\n",
    "}\n",
    "``` \n",
    "\n",
    "downloads:\n",
    "```\n",
    "{\n",
    "    gmt: 'Download gmt file',\n",
    "    tsv: 'Download tsv file',\n",
    "    geneset: 'Download gene set',\n",
    "    ranked: 'Download ranked signature',\n",
    "    signature_json: 'Download signature as json',\n",
    "    library_json: 'Download library as json',\n",
    "    resource_json: 'Download resource as json',\n",
    "    sigcom: true,\n",
    "    enrichr: true,\n",
    "}\n",
    "```"
   ]
  },
  {
   "cell_type": "markdown",
   "metadata": {},
   "source": [
    "### Change default values\n",
    "```\n",
    "{\n",
    "    \"landing\": true,\n",
    "    \"content\": {\n",
    "        \"counting_validator\": \"/dcic/signature-commons-schema/v5/meta/schema/counting.json\",\n",
    "        \"ui_schema\": \"/dcic/signature-commons-schema/v5/meta/schema/ui-schema.json\",\n",
    "        \"header\" : \"Signature Commons Demo\",\n",
    "        \"footer_type\": \"dcic\",\n",
    "        \"search_terms\" : [\"HELA\", \"archs4\", \"tamoxifen\"],\n",
    "        \"nav\": {\n",
    "        \"MetadataSearch\": {\n",
    "          \"active\": true,\n",
    "          \"endpoint\": \"/MetadataSearch\"\n",
    "        },\n",
    "        \"SignatureSearch\": {\n",
    "          \"active\": false,\n",
    "          \"endpoint\": \"/GenesetEnrichment\"\n",
    "        },\n",
    "        \"Resources\": {\n",
    "          \"active\": true,\n",
    "          \"endpoint\": \"/WebResources\"\n",
    "        },\n",
    "        \"API\": {\n",
    "          \"active\": true\n",
    "            }\n",
    "        }\n",
    "    }\n",
    "}\n",
    "\n",
    " ```"
   ]
  },
  {
   "cell_type": "code",
   "execution_count": 151,
   "metadata": {},
   "outputs": [],
   "source": [
    "with open(\"data/schemas/landing.json\") as o:\n",
    "    landing = json.loads(o.read())\n",
    "\n",
    "landing[\"$validator\"] = \"/dcic/signature-commons-schema/v5/meta/schema/landing-ui.json\"\n",
    "data = {\n",
    "    \"id\": str(uuid4()),\n",
    "    \"meta\": landing\n",
    "    }\n",
    "post_data(data,\"schemas\")"
   ]
  },
  {
   "cell_type": "markdown",
   "metadata": {},
   "source": [
    "## delete schemas"
   ]
  },
  {
   "cell_type": "code",
   "execution_count": 138,
   "metadata": {},
   "outputs": [],
   "source": [
    "res = requests.get(API_url%(\"schemas\",\"\"))\n",
    "for i in res.json():\n",
    "    delete_data(i,\"schemas\")"
   ]
  },
  {
   "cell_type": "code",
   "execution_count": null,
   "metadata": {},
   "outputs": [],
   "source": []
  }
 ],
 "metadata": {
  "kernelspec": {
   "display_name": "Python 3",
   "language": "python",
   "name": "python3"
  },
  "language_info": {
   "codemirror_mode": {
    "name": "ipython",
    "version": 3
   },
   "file_extension": ".py",
   "mimetype": "text/x-python",
   "name": "python",
   "nbconvert_exporter": "python",
   "pygments_lexer": "ipython3",
   "version": "3.6.5"
  }
 },
 "nbformat": 4,
 "nbformat_minor": 2
}
